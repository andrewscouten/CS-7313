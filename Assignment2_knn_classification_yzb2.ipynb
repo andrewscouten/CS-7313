{
  "cells": [
    {
      "cell_type": "markdown",
      "metadata": {
        "id": "view-in-github",
        "colab_type": "text"
      },
      "source": [
        "<a href=\"https://colab.research.google.com/github/andrewscouten/CS-7313/blob/main/Assignment2_knn_classification_yzb2.ipynb\" target=\"_parent\"><img src=\"https://colab.research.google.com/assets/colab-badge.svg\" alt=\"Open In Colab\"/></a>"
      ]
    },
    {
      "cell_type": "markdown",
      "metadata": {
        "id": "e37x5sitAyP_"
      },
      "source": [
        "# Assignment 2 - kNN Classification with Optimizations\n"
      ]
    },
    {
      "cell_type": "markdown",
      "source": [
        "## Task 1 - Baseline 1-NN Model & Foundational Concepts\n",
        "(Train and Evaluate a 1-NN Classifier on the Connect-4 Dataset)"
      ],
      "metadata": {
        "id": "ZF2UWVf6NFL1"
      }
    },
    {
      "cell_type": "markdown",
      "source": [
        "### 1.1 - Implementation: 1-NN Classifier\n",
        "\n",
        "You can upload the dataset into your Google Drive and load it from there. The code below allows you to mount the Google Drive."
      ],
      "metadata": {
        "id": "OS5uZZmxNSlz"
      }
    },
    {
      "cell_type": "code",
      "source": [
        "from google.colab import drive\n",
        "drive.mount('/content/drive')"
      ],
      "metadata": {
        "colab": {
          "base_uri": "https://localhost:8080/"
        },
        "id": "HWOzv2KcNHhu",
        "outputId": "881ddcea-691b-4782-a60b-09f1f05a33b8"
      },
      "execution_count": null,
      "outputs": [
        {
          "output_type": "stream",
          "name": "stdout",
          "text": [
            "Mounted at /content/drive\n"
          ]
        }
      ]
    },
    {
      "cell_type": "markdown",
      "metadata": {
        "id": "1M_fuk34AyQD"
      },
      "source": [
        "#### 1.1.1 - Import the necessary libraries"
      ]
    },
    {
      "cell_type": "code",
      "execution_count": null,
      "metadata": {
        "id": "VNlQNGHgAyQE"
      },
      "outputs": [],
      "source": [
        "\n",
        "# Importing the libraries\n",
        "\n",
        "# YOUR CODE HERE\n",
        "\n"
      ]
    },
    {
      "cell_type": "markdown",
      "metadata": {
        "id": "R4rtMbjYAyQF"
      },
      "source": [
        "#### 1.1.2 - Load and pre-process the dataset"
      ]
    },
    {
      "cell_type": "code",
      "execution_count": null,
      "metadata": {
        "id": "4cwcEJHiAyQF"
      },
      "outputs": [],
      "source": [
        "\n",
        "\n",
        "# Replace this with the correct path on your Google Drive\n",
        "\n",
        "column_names = ['a1', 'a2', 'a3', 'a4', 'a5', 'a6',\n",
        "                'b1', 'b2', 'b3', 'b4', 'b5', 'b6',\n",
        "                'c1', 'c2', 'c3', 'c4', 'c5', 'c6',\n",
        "                'd1', 'd2', 'd3', 'd4', 'd5', 'd6',\n",
        "                'e1', 'e2', 'e3', 'e4', 'e5', 'e6',\n",
        "                'f1', 'f2', 'f3', 'f4', 'f5', 'f6',\n",
        "                'g1', 'g2', 'g3', 'g4', 'g5', 'g6',\n",
        "                'class']\n",
        "\n",
        "# Load the data into a pandas dataframe using the column names defined above\n",
        "# YOUR CODE HERE\n"
      ]
    },
    {
      "cell_type": "code",
      "execution_count": null,
      "metadata": {
        "id": "ephmdPm3AyQF"
      },
      "outputs": [],
      "source": [
        "# Print the shape of the dataframe\n",
        "# YOUR CODE HERE\n",
        "\n",
        "\n",
        "# Show the first 5 rows of the dataframe\n",
        "# YOUR CODE HERE\n"
      ]
    },
    {
      "cell_type": "code",
      "execution_count": null,
      "metadata": {
        "id": "DbTLP5cGAyQG"
      },
      "outputs": [],
      "source": [
        "# Check for null entries or missing values\n",
        "# YOUR CODE HERE\n"
      ]
    },
    {
      "cell_type": "markdown",
      "metadata": {
        "id": "Ouy3LVdKAyQH"
      },
      "source": [
        "#### Convert the class labels to numerical values\n",
        "Use the `map` function to convert the class labels to numerical values, similar to what we did in the Iris dataset."
      ]
    },
    {
      "cell_type": "code",
      "execution_count": null,
      "metadata": {
        "id": "vy4Ks5jZAyQI"
      },
      "outputs": [],
      "source": [
        "# Converting the class labels to numerical values\n",
        "\n",
        "label_dict = {\n",
        "    'win':0,\n",
        "    'loss':1,\n",
        "    'draw':2\n",
        "    }\n",
        "\n",
        "# YOUR CODE HERE\n"
      ]
    },
    {
      "cell_type": "code",
      "execution_count": null,
      "metadata": {
        "id": "LL6Ny2e3AyQI"
      },
      "outputs": [],
      "source": [
        "# Show a histogram of the class labels. Use the 'class' column for this.\n",
        "\n",
        "# YOUR CODE HERE\n"
      ]
    },
    {
      "cell_type": "markdown",
      "metadata": {
        "id": "F6Mfas9vAyQI"
      },
      "source": [
        "#### Convert the attributes to numerical values\n",
        "\n",
        "Use the `applymap` function and a `lambda` function to convert the attributes to numerical values."
      ]
    },
    {
      "cell_type": "code",
      "execution_count": null,
      "metadata": {
        "id": "MOr8oL2MAyQI"
      },
      "outputs": [],
      "source": [
        "# attribute map\n",
        "attribute_dict = {\n",
        "    'x':0,\n",
        "    'o':1,\n",
        "    'b':2\n",
        "    }\n",
        "\n",
        "# YOUR CODE HERE\n",
        "\n"
      ]
    },
    {
      "cell_type": "markdown",
      "metadata": {
        "id": "fRudYDOBAyQI"
      },
      "source": [
        "#### 1.1.3 - Split the dataset into training and testing sets"
      ]
    },
    {
      "cell_type": "code",
      "execution_count": null,
      "metadata": {
        "id": "GUC2T4jUAyQJ",
        "colab": {
          "base_uri": "https://localhost:8080/"
        },
        "outputId": "5ad46b07-990e-4d0d-a53d-9528eec574c6"
      },
      "outputs": [
        {
          "output_type": "stream",
          "name": "stdout",
          "text": [
            "(67557, 42)\n",
            "(67557,)\n"
          ]
        }
      ],
      "source": [
        "# Assign the features to a numpy matrix called X and the class labels to a numpy vector called y\n",
        "\n",
        "# YOUR CODE HERE\n"
      ]
    },
    {
      "cell_type": "code",
      "execution_count": null,
      "metadata": {
        "id": "_gJI0Ey5AyQJ"
      },
      "outputs": [],
      "source": [
        "# Split the data into training and test sets. Use 30% of the data for testing and a random state of 42\n",
        "\n",
        "# YOUR CODE HERE\n",
        "\n"
      ]
    },
    {
      "cell_type": "code",
      "execution_count": null,
      "metadata": {
        "id": "IEQUfu2JAyQJ",
        "outputId": "3e361449-1e2e-481a-934e-b28f6d900cd7",
        "colab": {
          "base_uri": "https://localhost:8080/"
        }
      },
      "outputs": [
        {
          "output_type": "stream",
          "name": "stdout",
          "text": [
            "(47289, 42)\n",
            "(20268, 42)\n"
          ]
        }
      ],
      "source": [
        "# Print the shapes of the training and test sets\n",
        "\n",
        "# YOUR CODE HERE\n"
      ]
    },
    {
      "cell_type": "markdown",
      "metadata": {
        "id": "hAuDMwQJAyQJ"
      },
      "source": [
        "#### 1.1.4 - Train and evaluate a kNN classifier\n",
        "\n",
        "Train a kNN classifier using the training set and predict the labels of the test set. Use **k=1**. Report the accuracy of the classifier.\n",
        "\n",
        "**Note:** As a distance metric, use the **Hamming** distance metric. Refer to the documentation of the `sklearn.neighbors.KNeighborsClassifier` class. The metric can be specified using the `metric` parameter of the `KNeighborsClassifier`, as `metric='hamming'`.\n"
      ]
    },
    {
      "cell_type": "code",
      "execution_count": null,
      "metadata": {
        "id": "OD2kjxOLAyQJ",
        "outputId": "1dfbacc4-694c-4077-a46e-c24f84fa885c",
        "colab": {
          "base_uri": "https://localhost:8080/",
          "height": 75
        }
      },
      "outputs": [
        {
          "output_type": "execute_result",
          "data": {
            "text/plain": [
              "KNeighborsClassifier(metric='hamming', n_neighbors=1)"
            ],
            "text/html": [
              "<style>#sk-container-id-1 {color: black;background-color: white;}#sk-container-id-1 pre{padding: 0;}#sk-container-id-1 div.sk-toggleable {background-color: white;}#sk-container-id-1 label.sk-toggleable__label {cursor: pointer;display: block;width: 100%;margin-bottom: 0;padding: 0.3em;box-sizing: border-box;text-align: center;}#sk-container-id-1 label.sk-toggleable__label-arrow:before {content: \"▸\";float: left;margin-right: 0.25em;color: #696969;}#sk-container-id-1 label.sk-toggleable__label-arrow:hover:before {color: black;}#sk-container-id-1 div.sk-estimator:hover label.sk-toggleable__label-arrow:before {color: black;}#sk-container-id-1 div.sk-toggleable__content {max-height: 0;max-width: 0;overflow: hidden;text-align: left;background-color: #f0f8ff;}#sk-container-id-1 div.sk-toggleable__content pre {margin: 0.2em;color: black;border-radius: 0.25em;background-color: #f0f8ff;}#sk-container-id-1 input.sk-toggleable__control:checked~div.sk-toggleable__content {max-height: 200px;max-width: 100%;overflow: auto;}#sk-container-id-1 input.sk-toggleable__control:checked~label.sk-toggleable__label-arrow:before {content: \"▾\";}#sk-container-id-1 div.sk-estimator input.sk-toggleable__control:checked~label.sk-toggleable__label {background-color: #d4ebff;}#sk-container-id-1 div.sk-label input.sk-toggleable__control:checked~label.sk-toggleable__label {background-color: #d4ebff;}#sk-container-id-1 input.sk-hidden--visually {border: 0;clip: rect(1px 1px 1px 1px);clip: rect(1px, 1px, 1px, 1px);height: 1px;margin: -1px;overflow: hidden;padding: 0;position: absolute;width: 1px;}#sk-container-id-1 div.sk-estimator {font-family: monospace;background-color: #f0f8ff;border: 1px dotted black;border-radius: 0.25em;box-sizing: border-box;margin-bottom: 0.5em;}#sk-container-id-1 div.sk-estimator:hover {background-color: #d4ebff;}#sk-container-id-1 div.sk-parallel-item::after {content: \"\";width: 100%;border-bottom: 1px solid gray;flex-grow: 1;}#sk-container-id-1 div.sk-label:hover label.sk-toggleable__label {background-color: #d4ebff;}#sk-container-id-1 div.sk-serial::before {content: \"\";position: absolute;border-left: 1px solid gray;box-sizing: border-box;top: 0;bottom: 0;left: 50%;z-index: 0;}#sk-container-id-1 div.sk-serial {display: flex;flex-direction: column;align-items: center;background-color: white;padding-right: 0.2em;padding-left: 0.2em;position: relative;}#sk-container-id-1 div.sk-item {position: relative;z-index: 1;}#sk-container-id-1 div.sk-parallel {display: flex;align-items: stretch;justify-content: center;background-color: white;position: relative;}#sk-container-id-1 div.sk-item::before, #sk-container-id-1 div.sk-parallel-item::before {content: \"\";position: absolute;border-left: 1px solid gray;box-sizing: border-box;top: 0;bottom: 0;left: 50%;z-index: -1;}#sk-container-id-1 div.sk-parallel-item {display: flex;flex-direction: column;z-index: 1;position: relative;background-color: white;}#sk-container-id-1 div.sk-parallel-item:first-child::after {align-self: flex-end;width: 50%;}#sk-container-id-1 div.sk-parallel-item:last-child::after {align-self: flex-start;width: 50%;}#sk-container-id-1 div.sk-parallel-item:only-child::after {width: 0;}#sk-container-id-1 div.sk-dashed-wrapped {border: 1px dashed gray;margin: 0 0.4em 0.5em 0.4em;box-sizing: border-box;padding-bottom: 0.4em;background-color: white;}#sk-container-id-1 div.sk-label label {font-family: monospace;font-weight: bold;display: inline-block;line-height: 1.2em;}#sk-container-id-1 div.sk-label-container {text-align: center;}#sk-container-id-1 div.sk-container {/* jupyter's `normalize.less` sets `[hidden] { display: none; }` but bootstrap.min.css set `[hidden] { display: none !important; }` so we also need the `!important` here to be able to override the default hidden behavior on the sphinx rendered scikit-learn.org. See: https://github.com/scikit-learn/scikit-learn/issues/21755 */display: inline-block !important;position: relative;}#sk-container-id-1 div.sk-text-repr-fallback {display: none;}</style><div id=\"sk-container-id-1\" class=\"sk-top-container\"><div class=\"sk-text-repr-fallback\"><pre>KNeighborsClassifier(metric=&#x27;hamming&#x27;, n_neighbors=1)</pre><b>In a Jupyter environment, please rerun this cell to show the HTML representation or trust the notebook. <br />On GitHub, the HTML representation is unable to render, please try loading this page with nbviewer.org.</b></div><div class=\"sk-container\" hidden><div class=\"sk-item\"><div class=\"sk-estimator sk-toggleable\"><input class=\"sk-toggleable__control sk-hidden--visually\" id=\"sk-estimator-id-1\" type=\"checkbox\" checked><label for=\"sk-estimator-id-1\" class=\"sk-toggleable__label sk-toggleable__label-arrow\">KNeighborsClassifier</label><div class=\"sk-toggleable__content\"><pre>KNeighborsClassifier(metric=&#x27;hamming&#x27;, n_neighbors=1)</pre></div></div></div></div></div>"
            ]
          },
          "metadata": {},
          "execution_count": 13
        }
      ],
      "source": [
        "# Fit the KNN model to the training data\n",
        "\n",
        "# YOUR CODE HERE\n"
      ]
    },
    {
      "cell_type": "code",
      "execution_count": null,
      "metadata": {
        "id": "qv5LOjxAAyQJ"
      },
      "outputs": [],
      "source": [
        "# Evaluate the model on the test data using classification accuracy and report the results.\n",
        "# Note, this may take some time to run. It takes about 30 seconds on my machine.\n",
        "\n",
        "# YOUR CODE HERE\n",
        "\n"
      ]
    },
    {
      "cell_type": "markdown",
      "source": [
        "### 1.2 - Write-up: Going Beyond Accuracy\n",
        "\n",
        "*(Edit the contents of this cell to write your answers according to the assignment description given on Canvas.)*"
      ],
      "metadata": {
        "id": "G_KVFWwWOVIl"
      }
    },
    {
      "cell_type": "markdown",
      "metadata": {
        "id": "UsbCelwGAyQK"
      },
      "source": [
        "## Task 2: Hyperparameter Tuning & Model Generalization"
      ]
    },
    {
      "cell_type": "markdown",
      "source": [
        "### 2.1 - Implementation: Finding the Optimal k\n",
        "\n",
        "### Split the data into training, validation and test sets, using a 60:20:20 split and follow the instructions given on Canvas."
      ],
      "metadata": {
        "id": "i-YNE__OQKuz"
      }
    },
    {
      "cell_type": "code",
      "execution_count": null,
      "metadata": {
        "id": "QvLb832OAyQK"
      },
      "outputs": [],
      "source": [
        "# Split the data into training, validation and test sets. Use a 60:20:20 split. Use a random state of 42.\n",
        "\n",
        "# YOUR CODE HERE\n",
        "\n"
      ]
    },
    {
      "cell_type": "markdown",
      "source": [
        "### 2.2 - Write-up: Analysis of Model Complexity and Generalization\n",
        "\n",
        "*(Edit the contents of this cell to write your answers according to the assignment description given on Canvas.)*\n"
      ],
      "metadata": {
        "id": "0vELmNjNRf7G"
      }
    },
    {
      "cell_type": "markdown",
      "metadata": {
        "id": "zcFZo1NsAyQL"
      },
      "source": [
        "## Task 3: Algorithmic Optimization & Complexity Analysis\n",
        "\n",
        "The provided naive implementation of kNN is computationally expensive. You will analyze its complexity and then implement an optimized version using a priority queue (max-heap) to see the practical difference.\n",
        "\n"
      ]
    },
    {
      "cell_type": "code",
      "source": [
        "# Basic (naive) KNN implementation\n",
        "from scipy.spatial.distance import hamming\n",
        "\n",
        "class KNNClassifier(object):\n",
        "    def __init__(self, k, dist_fn=None):\n",
        "        self.k = k\n",
        "        if dist_fn is None:\n",
        "            self.dist_fn = self._hamming_dist\n",
        "\n",
        "    def _hamming_dist(self, a, b):\n",
        "        hamming_distance = hamming(a, b) * len(a)\n",
        "        return hamming_distance\n",
        "\n",
        "    def _euclidean_dist(self, a, b):\n",
        "        dist = 0.\n",
        "        for ele_i, ele_j in zip(a, b):\n",
        "            dist += ((ele_i - ele_j) ** 2)\n",
        "        dist = dist ** 0.5\n",
        "        return dist\n",
        "\n",
        "    def _find_nearest(self, x):\n",
        "        dist_idx_pairs = []\n",
        "        idx_set = set()\n",
        "        for k in range(self.k):\n",
        "            min_dist = self.dist_fn(x, self.dataset_[0])\n",
        "            min_idx = 0\n",
        "            for j in range(1, self.dataset_.shape[0]):\n",
        "                if j in idx_set:\n",
        "                    continue\n",
        "                d = self.dist_fn(x, self.dataset_[j])\n",
        "                if d < min_dist:\n",
        "                    min_dist = d\n",
        "                    min_idx = j\n",
        "            dist_idx_pairs.append((min_dist, min_idx))\n",
        "            idx_set.add(min_idx)\n",
        "        return dist_idx_pairs\n",
        "\n",
        "    def fit(self, X, y):\n",
        "        self.dataset_ = X.copy()\n",
        "        self.labels_ = y.copy()\n",
        "        self.possible_labels_ = np.unique(y)\n",
        "\n",
        "    def predict(self, X):\n",
        "        predictions = np.zeros(X.shape[0], dtype=int)\n",
        "        for i in range(X.shape[0]):\n",
        "            k_nearest = self._find_nearest(X[i])\n",
        "            indices = [entry[1] for entry in k_nearest]\n",
        "            k_labels = self.labels_[indices]\n",
        "            counts = np.bincount(k_labels,\n",
        "                                 minlength=self.possible_labels_.shape[0])\n",
        "            pred_label = np.argmax(counts)\n",
        "            predictions[i] = pred_label\n",
        "        return predictions\n",
        "\n",
        "    def score(self, X, y):\n",
        "        y_pred = self.predict(X)\n",
        "        num_correct_predictions = (y_pred == y).sum()\n",
        "        score = (num_correct_predictions / y.shape[0])\n",
        "        return score"
      ],
      "metadata": {
        "id": "ow0G3gMqCHdn"
      },
      "execution_count": null,
      "outputs": []
    },
    {
      "cell_type": "markdown",
      "source": [
        "Python provides `heapq`, which is a MinHeap, i.e. the smallest elements float to the top. The following implementation uses `heapq` internally to create a MaxHeap.You may use it in your implementation of the KNN that uses a priority queue."
      ],
      "metadata": {
        "id": "-yn1jtQjCqYZ"
      }
    },
    {
      "cell_type": "code",
      "source": [
        "from scipy.spatial.distance import hamming\n",
        "import heapq\n",
        "\n",
        "\n",
        "class MaxHeap:\n",
        "\n",
        "    # Initialize the max heap\n",
        "    def __init__(self, data=None):\n",
        "        if data is None:\n",
        "            self.data = []\n",
        "        else:\n",
        "            self.data = [-i for i in data]\n",
        "            heapq.heapify(self.data)\n",
        "\n",
        "    # Push item onto max heap, maintaining the heap invariant\n",
        "    def push(self, item):\n",
        "        heapq.heappush(self.data, -item)\n",
        "\n",
        "    # Pop the largest item off the max heap, maintaining the heap invariant\n",
        "    def pop(self):\n",
        "        return -heapq.heappop(self.data)\n",
        "\n",
        "    # Pop and return the current largest value, and add the new item\n",
        "    def replace(self, item):\n",
        "        return heapq.heapreplace(self.data, -item)\n",
        "\n",
        "    # Return the current largest value in the max heap\n",
        "    def top(self):\n",
        "        return -self.data[0]\n",
        "\n",
        "    def size(self):\n",
        "        return len(self.data)\n",
        "\n",
        "    def __repr__(self):\n",
        "        listToStr = ' '.join([str(elem) for elem in self.data])\n",
        "        return listToStr + '\\n'\n",
        "\n",
        "\n",
        "\n",
        "\n",
        "class Pair:\n",
        "    def __init__(self, x, y):\n",
        "        self.x = x\n",
        "        self.y = y\n",
        "\n",
        "    # Override the less-than operator __lt__ to make Pair class work with max heap\n",
        "    def __lt__(self, other):\n",
        "        return self.x < other.x\n",
        "\n",
        "    def __gt__(self, other):\n",
        "        return self.x > other.x\n",
        "\n",
        "    def __neg__(self):\n",
        "        return Pair(-self.x, self.y)\n",
        "\n",
        "    def __repr__(self):\n",
        "        return f'({self.x}, {self.y})'\n"
      ],
      "metadata": {
        "id": "bl5TYjIDChje"
      },
      "execution_count": null,
      "outputs": []
    },
    {
      "cell_type": "markdown",
      "source": [
        "### 3.1 - Write-up: Theoretical Analysis\n",
        "\n",
        "*(Edit the contents of this cell to write your answers according to the assignment description given on Canvas.)*\n"
      ],
      "metadata": {
        "id": "w-7OdF-2Uukm"
      }
    },
    {
      "cell_type": "markdown",
      "source": [
        "### 3.2 - Implementation: Fast KNN and Empirical Analysis"
      ],
      "metadata": {
        "id": "U2o2VzzuVJ-H"
      }
    },
    {
      "cell_type": "markdown",
      "source": [
        "Implementation of the KNN classifier that is faster than the naive version of the KNN given above, by using a pririty queue."
      ],
      "metadata": {
        "id": "SY976R2xDRot"
      }
    },
    {
      "cell_type": "code",
      "source": [
        "# Faster KNN using heap\n",
        "\n",
        "\n",
        "    # YOUR CODE HERE"
      ],
      "metadata": {
        "id": "aM0lz4H3De_H"
      },
      "execution_count": null,
      "outputs": []
    },
    {
      "cell_type": "markdown",
      "source": [
        "## Evaluation\n",
        "\n",
        "Use a subset of the connect dataset containing only 1500 instances (500 from each class) to compare the **speed** and **accuracy** of the two KNN impelemtations. Use a train/test split of 70/30 and evaluate both version on the same splits with a **k=13**."
      ],
      "metadata": {
        "id": "PN3_sYmBDskG"
      }
    },
    {
      "cell_type": "code",
      "source": [
        "# YOUR CODE HERE\n"
      ],
      "metadata": {
        "id": "z6ImTuc2DioY"
      },
      "execution_count": null,
      "outputs": []
    }
  ],
  "metadata": {
    "kernelspec": {
      "display_name": "tf",
      "language": "python",
      "name": "python3"
    },
    "language_info": {
      "codemirror_mode": {
        "name": "ipython",
        "version": 3
      },
      "file_extension": ".py",
      "mimetype": "text/x-python",
      "name": "python",
      "nbconvert_exporter": "python",
      "pygments_lexer": "ipython3",
      "version": "3.8.13"
    },
    "orig_nbformat": 4,
    "vscode": {
      "interpreter": {
        "hash": "f63e3a62ec1190916fbae343a873902eb59c19028644989a00d46d3a746fcb45"
      }
    },
    "colab": {
      "provenance": [],
      "include_colab_link": true
    }
  },
  "nbformat": 4,
  "nbformat_minor": 0
}